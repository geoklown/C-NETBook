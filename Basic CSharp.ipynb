{
 "cells": [
  {
   "cell_type": "markdown",
   "metadata": {},
   "source": [
    "### Learning objectives\n",
    "After you complete this module, you'll be able to:\n",
    "\n",
    "Write your first lines of C# code\n",
    "Use two different techniques to print a message to a text console\n",
    "Diagnose errors when you type code incorrectly\n",
    "Identify different C# syntax elements like operators, classes, and methods"
   ]
  },
  {
   "cell_type": "markdown",
   "metadata": {},
   "source": [
    "**Note**\n",
    "I need to go back through my previous notes and decide what information I need to put here for future reference. I have notes smeared all over in different formats and places. I do not want to spend the time right now to fix it here. I want to continue to evaluate if PolyGlot is going to be the tool for me to use. "
   ]
  },
  {
   "cell_type": "code",
   "execution_count": 2,
   "metadata": {
    "dotnet_interactive": {
     "language": "csharp"
    },
    "polyglot_notebook": {
     "kernelName": "csharp"
    },
    "vscode": {
     "languageId": "polyglot-notebook"
    }
   },
   "outputs": [
    {
     "name": "stdout",
     "output_type": "stream",
     "text": [
      "Congratulations! You wrote your first lines of code."
     ]
    }
   ],
   "source": [
    "// Console.WriteLine(\"Hello World!\");\n",
    "Console.Write(\"Congratulations!\");\n",
    "Console.Write(\" \");\n",
    "Console.Write(\"You wrote your first lines of code.\");"
   ]
  },
  {
   "cell_type": "markdown",
   "metadata": {},
   "source": [
    "### Understand the flow of execution\n",
    "It's important to understand the flow of execution. In other words, your code instructions were executed in order, one line at a time, until there were no more instructions to execute. Some instructions will require the CPU to wait before it can continue. Other instructions can be used to change the flow of execution."
   ]
  },
  {
   "cell_type": "markdown",
   "metadata": {},
   "source": [
    "### Declare and initialize variables\n",
    "After you complete this module, you'll be able to:\n",
    "\n",
    "Create literal values for five basic data types\n",
    "Retrieve and set values in variables\n",
    "Allow the compiler to determine the data type for your variable when initializing"
   ]
  },
  {
   "cell_type": "code",
   "execution_count": null,
   "metadata": {
    "dotnet_interactive": {
     "language": "csharp"
    },
    "polyglot_notebook": {
     "kernelName": "csharp"
    },
    "vscode": {
     "languageId": "polyglot-notebook"
    }
   },
   "outputs": [],
   "source": []
  }
 ],
 "metadata": {
  "language_info": {
   "name": "csharp"
  }
 },
 "nbformat": 4,
 "nbformat_minor": 2
}
