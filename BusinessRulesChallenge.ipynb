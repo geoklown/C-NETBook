{
 "cells": [
  {
   "cell_type": "markdown",
   "metadata": {},
   "source": [
    "# Challenge: Improve renewal rate of subscriptions\n",
    "|| [Exercise](https://learn.microsoft.com/en-us/training/modules/csharp-if-elseif-else/4-challenge) ||\n",
    "[Docs: Nested Types](https://learn.microsoft.com/en-us/dotnet/csharp/programming-guide/classes-and-structs/nested-types) || [Docs: DateTime](https://learn.microsoft.com/en-us/dotnet/api/system.datetime?view=net-7.0#initialize-a-datetime-object) ||\n",
    "\n",
    "## Requirements: \n",
    "\n",
    "1. Your code should only display one message.\n",
    "   - The message that your code displays will depend on the other five rules. For rules 2-6, the higher numbered rules take precedence over the lower numbered rules.\n",
    "\n",
    "2. If the user's subscription will expire in 10 days or less, display the message:\n",
    "   * *Output:* \n",
    "   - Your subscription will expire soon. Renew now!\n",
    "\n",
    "3. Rule 3: If the user's subscription will expire in five days or less, display the messages:\n",
    "    * *Output:* \n",
    "   - Your subscription expires in _ days.\n",
    "   - Renew now and save 10%!\n",
    "\n",
    "4. If the user's subscription will expire in one day, display the messages:\n",
    "   * *Output:* \n",
    "    - Your subscription expires within a day! \n",
    "    - Renew now and save 20%!\n",
    "\n",
    "5. If the user's subscription has expired, display the message:\n",
    "   * *Output*\n",
    "   - Your subscription has expired.\n",
    "\n",
    "6. If the user's subscription doesn't expire in 10 days or less, display nothing\n",
    "\n",
    "## Implement your solution code using if statements\n",
    "Your solution must use separate if and if-else statements to implement the business rules. The if-else statement can include multiple else if parts.\n",
    "\n",
    "* Create an if-else statement that displays a message about when the subscription will expire.\n",
    "\n",
    "*Tip:* Use an else if to ensure each expiration rule is accounted for. \n",
    "  \n",
    "* Create a separate if statement that displays a discount offer.\n",
    "* The business rules indicate when a discount should be offered."
   ]
  },
  {
   "cell_type": "code",
   "execution_count": 29,
   "metadata": {
    "dotnet_interactive": {
     "language": "csharp"
    },
    "polyglot_notebook": {
     "kernelName": "csharp"
    },
    "vscode": {
     "languageId": "polyglot-notebook"
    }
   },
   "outputs": [],
   "source": [
    "//ToDo Establish Todays Date\n",
    "DateTime todaysDate = new DateTime(2023, 12, 3);\n",
    "\n",
    "//ToDo Establish User Sign up Date\n",
    "var signUpDate = new DateTime(2023, 12, 1);\n",
    "\n",
    "// Hard Code Expiration Dates\n",
    "var expirDate5 = new DateTime(2023, 12, 6);\n",
    "var expirDate10 = new DateTime(2023, 12, 10);\n",
    "var expirDate20 = new DateTime(2023, 12, 30);\n",
    "var expirTomorrow = new DateTime(2023, 12, 2);\n",
    "\n",
    "if(signUpDate == expirDate20)\n",
    "{\n",
    "Console.WriteLine();\n",
    "}\n",
    "else if(signUpDate == expirDate5)\n",
    "    {\n",
    "    Console.WriteLine(\"Your subscription expires in 5 days. Renew now and save 10%!\");\n",
    "    }\n",
    "    else if(signUpDate == expirDate10)\n",
    "    {\n",
    "        Console.WriteLine(\"Your subscription will expire soon. Renew now!\");\n",
    "    }\n",
    "    else if(signUpDate == expirTomorrow){Console.WriteLine(\"Your subscription will expire soon Renew now!\");\n",
    "    }\n",
    "  \n",
    "    "
   ]
  },
  {
   "cell_type": "markdown",
   "metadata": {},
   "source": [
    "* The above code was my original working idea. I was thinking that I needed to do something more complicated and specific to the dates and come up with a real world solution calculating the days until subscription. While I could eventually figure this out I guessed that I was making it too complicated. Turns out the below Code was the resolution the exercise was looking for. "
   ]
  },
  {
   "cell_type": "code",
   "execution_count": 37,
   "metadata": {
    "dotnet_interactive": {
     "language": "csharp"
    },
    "polyglot_notebook": {
     "kernelName": "csharp"
    },
    "vscode": {
     "languageId": "polyglot-notebook"
    }
   },
   "outputs": [
    {
     "name": "stdout",
     "output_type": "stream",
     "text": [
      "Your subscription expires in 4 days.\n",
      "Renew now and save 10%.\n"
     ]
    }
   ],
   "source": [
    "Random random = new Random();\n",
    "int daysUntilExpiration = random.Next(12);\n",
    "int discountPercentage = 0;\n",
    "\n",
    "if (daysUntilExpiration == 0)\n",
    "{\n",
    "    Console.WriteLine(\"Your subscription has expired.\");\n",
    "}\n",
    "else if (daysUntilExpiration == 1)\n",
    "{\n",
    "    Console.WriteLine(\"Your subscription expires within a day!\");\n",
    "    discountPercentage = 20;\n",
    "}\n",
    "else if (daysUntilExpiration <= 5)\n",
    "{\n",
    "    Console.WriteLine($\"Your subscription expires in {daysUntilExpiration} days.\");\n",
    "    discountPercentage = 10;\n",
    "}\n",
    "else if (daysUntilExpiration <= 10)\n",
    "{\n",
    "    Console.WriteLine(\"Your subscription will expire soon. Renew now!\");\n",
    "}\n",
    "\n",
    "if (discountPercentage > 0)\n",
    "{\n",
    "    Console.WriteLine($\"Renew now and save {discountPercentage}%.\");\n",
    "}"
   ]
  },
  {
   "cell_type": "markdown",
   "metadata": {},
   "source": [
    "* Miss-stepped several times getting thr hang of the statements. I kept thinking I needed to *Nest the statements inside like a russian nesting doll. This incorrect. I got the following error a lot*\n",
    "\n",
    "`The error CS8641 in C# typically occurs when there’s a misplaced semicolon or a missing closing brace in your if or else if statements. `\n",
    "\n",
    "* Here’s the correct syntax for `if` and `else if` statements in C#:"
   ]
  },
  {
   "cell_type": "code",
   "execution_count": null,
   "metadata": {
    "dotnet_interactive": {
     "language": "csharp"
    },
    "polyglot_notebook": {
     "kernelName": "csharp"
    },
    "vscode": {
     "languageId": "polyglot-notebook"
    }
   },
   "outputs": [],
   "source": [
    "\n",
    "if (condition) \n",
    "{\n",
    "    // statement;\n",
    "} \n",
    "else if (condition) \n",
    "{\n",
    "    // statement;\n",
    "} \n",
    "else if (condition) \n",
    "{\n",
    "    // statement;\n",
    "}"
   ]
  }
 ],
 "metadata": {
  "language_info": {
   "name": "csharp"
  }
 },
 "nbformat": 4,
 "nbformat_minor": 2
}
