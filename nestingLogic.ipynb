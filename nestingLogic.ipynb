{
 "cells": [
  {
   "cell_type": "markdown",
   "metadata": {},
   "source": [
    "# Nesting Logic in C#\n",
    "| [MS Learn](https://learn.microsoft.com/en-us/training/modules/csharp-if-elseif-else/3-exercise-elseif-else) |\n",
    "[MS Docs](https://learn.microsoft.com/en-us/dotnet/csharp/programming-guide/classes-and-structs/nested-types) |\n",
    "[GitHub Playground Repo](https://github.com/geoklown/DotnetLogitConsoleSLN) |"
   ]
  },
  {
   "cell_type": "code",
   "execution_count": 1,
   "metadata": {
    "dotnet_interactive": {
     "language": "csharp"
    },
    "polyglot_notebook": {
     "kernelName": "csharp"
    },
    "vscode": {
     "languageId": "polyglot-notebook"
    }
   },
   "outputs": [
    {
     "name": "stdout",
     "output_type": "stream",
     "text": [
      "Dice roll: 1 + 6 + 4 = 11\n",
      "Sorry, you lose.\n"
     ]
    }
   ],
   "source": [
    "Random dice = new Random();\n",
    "\n",
    "int roll1 = dice.Next(1, 7);\n",
    "int roll2 = dice.Next(1, 7);\n",
    "int roll3 = dice.Next(1, 7);\n",
    "\n",
    "int total = roll1 + roll2 + roll3;\n",
    "\n",
    "Console.WriteLine($\"Dice roll: {roll1} + {roll2} + {roll3} = {total}\");\n",
    "\n",
    "if ((roll1 == roll2) || (roll2 == roll3) || (roll1 == roll3))\n",
    "{\n",
    "    Console.WriteLine(\"You rolled doubles! +2 bonus to total!\");\n",
    "    total += 2;\n",
    "}\n",
    "\n",
    "if ((roll1 == roll2) && (roll2 == roll3)) \n",
    "{\n",
    "    Console.WriteLine(\"You rolled triples! +6 bonus to total!\");\n",
    "    total += 6;\n",
    "}\n",
    "\n",
    "if (total >= 15)\n",
    "{\n",
    "    Console.WriteLine(\"You win!\");\n",
    "}\n",
    "\n",
    "if (total < 15)\n",
    "{\n",
    "    Console.WriteLine(\"Sorry, you lose.\");\n",
    "}"
   ]
  },
  {
   "cell_type": "markdown",
   "metadata": {},
   "source": [
    "* Take a minute to examine the two if statements at the end of the file:\n",
    "\n",
    "```\n",
    "if (total >= 15)\n",
    "{\n",
    "    Console.WriteLine(\"You win!\");\n",
    "}\n",
    "\n",
    "if (total < 15)\n",
    "{\n",
    "    Console.WriteLine(\"Sorry, you lose.\");\n",
    "}\n",
    "```\n",
    "\n",
    "* Notice that both if statements compare total with the same numeric value. This is the perfect opportunity to use an else statement."
   ]
  },
  {
   "cell_type": "code",
   "execution_count": 3,
   "metadata": {
    "dotnet_interactive": {
     "language": "csharp"
    },
    "polyglot_notebook": {
     "kernelName": "csharp"
    },
    "vscode": {
     "languageId": "polyglot-notebook"
    }
   },
   "outputs": [
    {
     "name": "stdout",
     "output_type": "stream",
     "text": [
      "Dice roll: 3 + 5 + 2 = 10\n",
      "You lose!\n"
     ]
    }
   ],
   "source": [
    "// My Update with\n",
    "Random dice = new Random();\n",
    "\n",
    "int roll1 = dice.Next(1, 7);\n",
    "int roll2 = dice.Next(1, 7);\n",
    "int roll3 = dice.Next(1, 7);\n",
    "\n",
    "int total = roll1 + roll2 + roll3;\n",
    "\n",
    "Console.WriteLine($\"Dice roll: {roll1} + {roll2} + {roll3} = {total}\");\n",
    "\n",
    "if ((roll1 == roll2) || (roll2 == roll3) || (roll1 == roll3))\n",
    "{\n",
    "    Console.WriteLine(\"You rolled doubles! +2 bonus to total!\");\n",
    "    total += 2;\n",
    "}\n",
    "\n",
    "if ((roll1 == roll2) && (roll2 == roll3)) \n",
    "{\n",
    "    Console.WriteLine(\"You rolled triples! +6 bonus to total!\");\n",
    "    total += 6;\n",
    "}\n",
    "\n",
    "if (total >= 15)\n",
    "{\n",
    "    Console.WriteLine(\"You win!\");\n",
    "}\n",
    "\n",
    "else{\n",
    "    Console.WriteLine(\"You lose!\");\n",
    "}"
   ]
  },
  {
   "cell_type": "markdown",
   "metadata": {},
   "source": [
    "* The above code makes sense if you have a few options. I next question is th more realistic question of how many options can I glue together without having 75 lines of `if`"
   ]
  },
  {
   "cell_type": "markdown",
   "metadata": {},
   "source": [
    "### Modify the code to remove the stacking bonus for doubles and triples using nesting\n",
    "The below code answers my \"How may `if`s\" I can put in and also how to *Nest* logic blocks inside each other to shorten the code while also making it easier to navigate, read, and execute. The below block is how I implemented it. "
   ]
  },
  {
   "cell_type": "code",
   "execution_count": 4,
   "metadata": {
    "dotnet_interactive": {
     "language": "csharp"
    },
    "polyglot_notebook": {
     "kernelName": "csharp"
    },
    "vscode": {
     "languageId": "polyglot-notebook"
    }
   },
   "outputs": [
    {
     "name": "stdout",
     "output_type": "stream",
     "text": [
      "Dice roll: 6 + 3 + 5 = 14\n",
      "Sorry, you lose.\n"
     ]
    }
   ],
   "source": [
    "Random dice = new Random();\n",
    "\n",
    "int roll1 = dice.Next(1, 7);\n",
    "int roll2 = dice.Next(1, 7);\n",
    "int roll3 = dice.Next(1, 7);\n",
    "\n",
    "int total = roll1 + roll2 + roll3;\n",
    "\n",
    "Console.WriteLine($\"Dice roll: {roll1} + {roll2} + {roll3} = {total}\");\n",
    "\n",
    "if ((roll1 == roll2) || (roll2 == roll3) || (roll1 == roll3))\n",
    "{\n",
    "    if ((roll1 == roll2) && (roll2 == roll3))\n",
    "    {\n",
    "        Console.WriteLine(\"You rolled triples!  +6 bonus to total!\");\n",
    "        total += 6;\n",
    "    }\n",
    "    else\n",
    "    {\n",
    "        Console.WriteLine(\"You rolled doubles!  +2 bonus to total!\");\n",
    "        total += 2;\n",
    "    }\n",
    "}\n",
    "\n",
    "if (total >= 15)\n",
    "{\n",
    "    Console.WriteLine(\"You win!\");\n",
    "}\n",
    "else \n",
    "{\n",
    "    Console.WriteLine(\"Sorry, you lose.\");\n",
    "}"
   ]
  },
  {
   "cell_type": "markdown",
   "metadata": {},
   "source": [
    "* Hard Code for Testing"
   ]
  },
  {
   "cell_type": "code",
   "execution_count": 5,
   "metadata": {
    "dotnet_interactive": {
     "language": "csharp"
    },
    "polyglot_notebook": {
     "kernelName": "csharp"
    },
    "vscode": {
     "languageId": "polyglot-notebook"
    }
   },
   "outputs": [
    {
     "name": "stdout",
     "output_type": "stream",
     "text": [
      "Dice roll: 6 + 6 + 5 = 17\n",
      "You rolled doubles!  +2 bonus to total!\n",
      "You win!\n"
     ]
    }
   ],
   "source": [
    "Random dice = new Random();\n",
    "\n",
    "int roll1 = dice.Next(1, 7);\n",
    "int roll2 = dice.Next(1, 7);\n",
    "int roll3 = dice.Next(1, 7);\n",
    "\n",
    "//Hard Code for Testing\n",
    "roll1 = 6;\n",
    "roll2 = 6;\n",
    "roll3 = 5;\n",
    "\n",
    "int total = roll1 + roll2 + roll3;\n",
    "\n",
    "Console.WriteLine($\"Dice roll: {roll1} + {roll2} + {roll3} = {total}\");\n",
    "\n",
    "if ((roll1 == roll2) || (roll2 == roll3) || (roll1 == roll3))\n",
    "{\n",
    "    if ((roll1 == roll2) && (roll2 == roll3))\n",
    "    {\n",
    "        Console.WriteLine(\"You rolled triples!  +6 bonus to total!\");\n",
    "        total += 6;\n",
    "    }\n",
    "    else\n",
    "    {\n",
    "        Console.WriteLine(\"You rolled doubles!  +2 bonus to total!\");\n",
    "        total += 2;\n",
    "    }\n",
    "}\n",
    "\n",
    "if (total >= 15)\n",
    "{\n",
    "    Console.WriteLine(\"You win!\");\n",
    "}\n",
    "else \n",
    "{\n",
    "    Console.WriteLine(\"Sorry, you lose.\");\n",
    "}"
   ]
  },
  {
   "cell_type": "code",
   "execution_count": 6,
   "metadata": {
    "dotnet_interactive": {
     "language": "csharp"
    },
    "polyglot_notebook": {
     "kernelName": "csharp"
    },
    "vscode": {
     "languageId": "polyglot-notebook"
    }
   },
   "outputs": [
    {
     "name": "stdout",
     "output_type": "stream",
     "text": [
      "Dice roll: 6 + 6 + 6 = 18\n",
      "You rolled triples!  +6 bonus to total!\n",
      "You win!\n"
     ]
    }
   ],
   "source": [
    "// Hard Code Triples\n",
    "\n",
    "Random dice = new Random();\n",
    "\n",
    "int roll1 = dice.Next(1, 7);\n",
    "int roll2 = dice.Next(1, 7);\n",
    "int roll3 = dice.Next(1, 7);\n",
    "\n",
    "//Hard Code for Testing\n",
    "roll1 = 6;\n",
    "roll2 = 6;\n",
    "roll3 = 6;\n",
    "\n",
    "int total = roll1 + roll2 + roll3;\n",
    "\n",
    "Console.WriteLine($\"Dice roll: {roll1} + {roll2} + {roll3} = {total}\");\n",
    "\n",
    "if ((roll1 == roll2) || (roll2 == roll3) || (roll1 == roll3))\n",
    "{\n",
    "    if ((roll1 == roll2) && (roll2 == roll3))\n",
    "    {\n",
    "        Console.WriteLine(\"You rolled triples!  +6 bonus to total!\");\n",
    "        total += 6;\n",
    "    }\n",
    "    else\n",
    "    {\n",
    "        Console.WriteLine(\"You rolled doubles!  +2 bonus to total!\");\n",
    "        total += 2;\n",
    "    }\n",
    "}\n",
    "\n",
    "if (total >= 15)\n",
    "{\n",
    "    Console.WriteLine(\"You win!\");\n",
    "}\n",
    "else \n",
    "{\n",
    "    Console.WriteLine(\"Sorry, you lose.\");\n",
    "}"
   ]
  },
  {
   "cell_type": "markdown",
   "metadata": {},
   "source": [
    "### Use if, else, and else if statements to give a prize instead of a win-lose message\n",
    "To make the game more fun, you can change the game from \"win-or-lose\" to awarding fictitious prizes for each score. You can offer four prizes. However, the player should win only one prize:\n",
    "\n",
    "If the player scores greater or equal to 16, they'll win a new car.\n",
    "If the player scores greater or equal to 10, they'll win a new laptop.\n",
    "If the player scores exactly 7, they'll win a trip.\n",
    "Otherwise, the player wins a kitten."
   ]
  },
  {
   "cell_type": "code",
   "execution_count": 12,
   "metadata": {
    "dotnet_interactive": {
     "language": "csharp"
    },
    "polyglot_notebook": {
     "kernelName": "csharp"
    },
    "vscode": {
     "languageId": "polyglot-notebook"
    }
   },
   "outputs": [
    {
     "name": "stdout",
     "output_type": "stream",
     "text": [
      "Dice Roll: 6 + 2 + 6 = 14\n",
      "You rolled Doubles! +2 Bonus Points!\n",
      "You win a new car\n"
     ]
    }
   ],
   "source": [
    "Random dice = new Random();\n",
    "\n",
    "int roll1 = dice.Next(1, 7);\n",
    "int roll2 = dice.Next(1, 7);\n",
    "int roll3 = dice.Next(1, 7);\n",
    "\n",
    "int total = roll1 + roll2 + roll3;\n",
    "\n",
    "Console.WriteLine($\"Dice Roll: {roll1} + {roll2} + {roll3} = {total}\");\n",
    "\n",
    "if((roll1 == roll2) || (roll2 == roll3) || (roll1 == roll3)){\n",
    "    if ((roll1 == roll2 ) && (roll2 == roll3))\n",
    "    {\n",
    "        Console.WriteLine(\"You rolled Tripples! +6 Bonus Points!\");\n",
    "        total +=6;\n",
    "    }\n",
    "    else\n",
    "    {\n",
    "        Console.WriteLine(\"You rolled Doubles! +2 Bonus Points!\");\n",
    "        total += 2;\n",
    "    }\n",
    "}\n",
    "\n",
    "if(total >=16)\n",
    "{\n",
    "Console.WriteLine(\"You win a new car\");\n",
    "}\n",
    "else if(total >= 10)\n",
    "{\n",
    "    Console.WriteLine(\"You win a new Laptop!\");\n",
    "}\n",
    "else if(total == 7)\n",
    "{\n",
    "    Console.WriteLine(\"You win a new trip!\");\n",
    "}\n",
    "else\n",
    "{\n",
    "Console.WriteLine(\"You win a new kitten!\");\n",
    "}"
   ]
  },
  {
   "cell_type": "markdown",
   "metadata": {},
   "source": [
    "## MS LEARN Recap\n",
    "The `if, else if`, and `else` statements allow you to create multiple exclusive conditions as Boolean expressions. In other words, when you only want one outcome to happen, but you have several possible conditions and results, use as many `else` `if` statements as you want. If none of the `if` and `else if` statements apply, the final `else` code block will be executed. The `else` is optional, but it must come last if you choose to include it.\n",
    "\n",
    "* Use the technique of temporarily hard coding the roll variables to test each message.\n",
    "\n",
    "*The combination of `if` and `else` statements allows you to test for one condition, and then perform one of two outcomes. The code block for the `if` will be run when the Boolean expression is true, and the code block for the `else` will be run when the Boolean expression is false.\n",
    "You can nest `if` statements to narrow down a possible condition. However, you should consider using the `if`, `else if`, and `else` statements instead.\n",
    "Use `else` if statements to create multiple exclusive conditions.\n",
    "An `else` is optional, but it must always come last when included.*\n",
    "\n",
    "[MS Learn source](https://learn.microsoft.com/en-us/training/modules/csharp-if-elseif-else/3-exercise-elseif-else)"
   ]
  }
 ],
 "metadata": {
  "language_info": {
   "name": "csharp"
  }
 },
 "nbformat": 4,
 "nbformat_minor": 2
}
