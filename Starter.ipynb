{
 "cells": [
  {
   "cell_type": "markdown",
   "metadata": {},
   "source": [
    "# C# First Steps\n",
    "I am trying to use this Polyglot book to assist in my learning .NET. I am getting more comfortable with the language and VS Code/Visual Studio 2022. I am not into the part where I need more resources and a better way to wiki my way through learning. My problem I hope this book will assist me in is. The code itself and how it works without getting wrapped up in the IDE or other tools. \n",
    "\n",
    "The tools are important. But having the tool do everything for me without me understanding what the code is doing is a bad thing for progression and overall concepts I must know. For example, I don't want to go this far, but, I want to be able to write working code in vim without assistant. LOL. I will use a modern editor of course. But the point still stands. I need to understand the code and then the tools. "
   ]
  },
  {
   "cell_type": "code",
   "execution_count": 2,
   "metadata": {
    "dotnet_interactive": {
     "language": "csharp"
    },
    "polyglot_notebook": {
     "kernelName": "csharp"
    }
   },
   "outputs": [
    {
     "name": "stdout",
     "output_type": "stream",
     "text": [
      "Hello PolyGlot!\r\n"
     ]
    }
   ],
   "source": [
    "Console.WriteLine(\"Hello PolyGlot!\");"
   ]
  },
  {
   "cell_type": "markdown",
   "metadata": {},
   "source": [
    "* Running through a few paces on the MS Learn Getting started on C#\n",
    "  I think it is even easier to use a polyglot book than I previously though. Trying to use the the IDE to work through some of the code leaves me vulnerable to distractions and ideas about the code and what I ultimately want to do. One thing I still struggle with and I hope the book will help me work through is tha tI need to work the code itself instead of the tool. the tool comes later. I want to be able to write the code on paper. At least a real close pseudo code on a white board to solve a problem. \n",
    "\n",
    "  Using the book allows me to work through small chunks. This is better. I can also do my research with documentation. Taking my snippets form the doc pages and making my notes on the important parts I need to use later. Hopefully I will also have a local copy of this repo with me so I will be able to work somewhere without internet and still work on a project. "
   ]
  }
 ],
 "metadata": {
  "kernelspec": {
   "display_name": ".NET (C#)",
   "language": "C#",
   "name": ".net-csharp"
  },
  "language_info": {
   "name": "polyglot-notebook"
  },
  "polyglot_notebook": {
   "kernelInfo": {
    "defaultKernelName": "csharp",
    "items": [
     {
      "aliases": [],
      "languageName": "csharp",
      "name": "csharp"
     }
    ]
   }
  }
 },
 "nbformat": 4,
 "nbformat_minor": 2
}
