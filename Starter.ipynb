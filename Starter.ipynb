{
 "cells": [
  {
   "cell_type": "markdown",
   "metadata": {},
   "source": [
    "# C# First Steps\n",
    "I am trying to use this Polyglot book to assist in my learning .NET. I am getting more comfortable with the language and VS Code/Visual Studio 2022. I am not into the part where I need more resources and a better way to wiki my way through learning. My problem I hope this book will assist me in is. The code itself and how it works without getting wrapped up in the IDE or other tools. \n",
    "\n",
    "The tools are important. But having the tool do everything for me without me understanding what the code is doing is a bad thing for progression and overall concepts I must know. For example, I don't want to go this far, but, I want to be able to write working code in vim without assistant. LOL. I will use a modern editor of course. But the point still stands. I need to understand the code and then the tools. "
   ]
  },
  {
   "cell_type": "code",
   "execution_count": 2,
   "metadata": {
    "dotnet_interactive": {
     "language": "csharp"
    },
    "polyglot_notebook": {
     "kernelName": "csharp"
    }
   },
   "outputs": [
    {
     "name": "stdout",
     "output_type": "stream",
     "text": [
      "Hello PolyGlot!\r\n"
     ]
    }
   ],
   "source": [
    "Console.WriteLine(\"Hello PolyGlot!\");"
   ]
  }
 ],
 "metadata": {
  "kernelspec": {
   "display_name": ".NET (C#)",
   "language": "C#",
   "name": ".net-csharp"
  },
  "language_info": {
   "name": "polyglot-notebook"
  },
  "polyglot_notebook": {
   "kernelInfo": {
    "defaultKernelName": "csharp",
    "items": [
     {
      "aliases": [],
      "languageName": "csharp",
      "name": "csharp"
     }
    ]
   }
  }
 },
 "nbformat": 4,
 "nbformat_minor": 2
}
