{
 "cells": [
  {
   "cell_type": "markdown",
   "metadata": {},
   "source": [
    "# Store and iterate through sequences of data using Arrays and the foreach statement in C#\n",
    "\n",
    "|| [MS Learn](https://learn.microsoft.com/en-us/training/modules/csharp-arrays/) || [Arrays Docs](https://learn.microsoft.com/en-us/dotnet/csharp/language-reference/language-specification/basic-concepts#747-array-members) ||"
   ]
  },
  {
   "cell_type": "markdown",
   "metadata": {},
   "source": [
    "## Declare a new array\n",
    "To declare a new array of strings that can hold three elements, enter the following code:"
   ]
  },
  {
   "cell_type": "code",
   "execution_count": 1,
   "metadata": {
    "dotnet_interactive": {
     "language": "csharp"
    },
    "polyglot_notebook": {
     "kernelName": "csharp"
    },
    "vscode": {
     "languageId": "polyglot-notebook"
    }
   },
   "outputs": [],
   "source": [
    "string[] fraudulantOrderIds = new string[3];"
   ]
  },
  {
   "cell_type": "markdown",
   "metadata": {},
   "source": [
    "Take a minute to examine your code.\n",
    "\n",
    "The new operator creates a new instance of an array in the computer's memory that can hold three string values. For more information about the new keyword, see the module \"Call methods from the .NET Class Library using C#\".\n",
    "\n",
    "Notice that the first set of square brackets [] merely tells the compiler that the variable named fraudulentOrderIDs is an array, but the second set of square brackets [3] indicates the number of elements that the array can hold."
   ]
  },
  {
   "cell_type": "code",
   "execution_count": 10,
   "metadata": {
    "dotnet_interactive": {
     "language": "csharp"
    },
    "polyglot_notebook": {
     "kernelName": "csharp"
    },
    "vscode": {
     "languageId": "polyglot-notebook"
    }
   },
   "outputs": [
    {
     "name": "stdout",
     "output_type": "stream",
     "text": [
      "First: A123\n",
      "Second: B456\n",
      "Third: C789\n",
      "Rassign First: F000\n"
     ]
    }
   ],
   "source": [
    "string[] fraudulentOrderIDs = new string[3];\n",
    "\n",
    "fraudulentOrderIDs[0] = \"A123\";\n",
    "fraudulentOrderIDs[1] = \"B456\";\n",
    "fraudulentOrderIDs[2] = \"C789\";\n",
    "\n",
    "Console.WriteLine($\"First: {fraudulentOrderIDs[0]}\");\n",
    "Console.WriteLine($\"Second: {fraudulentOrderIDs[1]}\");\n",
    "Console.WriteLine($\"Third: {fraudulentOrderIDs[2]}\");\n",
    "\n",
    "fraudulentOrderIDs[0] = \"F000\";\n",
    "\n",
    "Console.WriteLine($\"Rassign First: {fraudulentOrderIDs[0]}\");"
   ]
  },
  {
   "cell_type": "markdown",
   "metadata": {},
   "source": [
    "* Declare the array initialize values in a single statement:"
   ]
  },
  {
   "cell_type": "code",
   "execution_count": 13,
   "metadata": {
    "dotnet_interactive": {
     "language": "csharp"
    },
    "polyglot_notebook": {
     "kernelName": "csharp"
    },
    "vscode": {
     "languageId": "polyglot-notebook"
    }
   },
   "outputs": [
    {
     "name": "stdout",
     "output_type": "stream",
     "text": [
      "First: A123\n",
      "Second: B456\n",
      "Third: C789\n"
     ]
    }
   ],
   "source": [
    "string[] fraudulentOrderIDs = {\"A123\", \"B456\", \"C789\"};\n",
    "\n",
    "Console.WriteLine($\"First: {fraudulentOrderIDs[0]}\");\n",
    "Console.WriteLine($\"Second: {fraudulentOrderIDs[1]}\");\n",
    "Console.WriteLine($\"Third: {fraudulentOrderIDs[2]}\");"
   ]
  },
  {
   "cell_type": "markdown",
   "metadata": {},
   "source": [
    "* Use the Length property of an array"
   ]
  },
  {
   "cell_type": "code",
   "execution_count": 14,
   "metadata": {
    "dotnet_interactive": {
     "language": "csharp"
    },
    "polyglot_notebook": {
     "kernelName": "csharp"
    },
    "vscode": {
     "languageId": "polyglot-notebook"
    }
   },
   "outputs": [
    {
     "name": "stdout",
     "output_type": "stream",
     "text": [
      "There are 3 fraudulent orders to process.\r\n"
     ]
    }
   ],
   "source": [
    "Console.WriteLine($\"There are {fraudulentOrderIDs.Length} fraudulent orders to process.\");"
   ]
  },
  {
   "cell_type": "code",
   "execution_count": 2,
   "metadata": {
    "dotnet_interactive": {
     "language": "csharp"
    },
    "polyglot_notebook": {
     "kernelName": "csharp"
    },
    "vscode": {
     "languageId": "polyglot-notebook"
    }
   },
   "outputs": [
    {
     "name": "stdout",
     "output_type": "stream",
     "text": [
      "First: A123\n",
      "Second: B456\n",
      "Third: C789\n",
      "Reasign First: F000\n",
      "There are 3 to process\n"
     ]
    }
   ],
   "source": [
    "string[] FraudulentIDs = {\"A123\", \"B456\", \"C789\"};\n",
    "Console.WriteLine($\"First: {FraudulentIDs[0]}\");\n",
    "Console.WriteLine($\"Second: {FraudulentIDs[1]}\");\n",
    "Console.WriteLine($\"Third: {FraudulentIDs[2]}\");\n",
    "\n",
    "FraudulentIDs[0] = \"F000\";\n",
    "\n",
    "Console.WriteLine($\"Reasign First: {FraudulentIDs[0]}\");\n",
    "\n",
    "Console.WriteLine($\"There are {FraudulentIDs.Length} to process\");"
   ]
  },
  {
   "cell_type": "markdown",
   "metadata": {},
   "source": [
    "# Exercise - Implement the foreach statement\n",
    "\n",
    "|| [Learn](https://learn.microsoft.com/en-us/training/modules/csharp-arrays/3-exercise-foreach) || [Docs](https://learn.microsoft.com/en-us/dotnet/csharp/language-reference/language-specification/arrays)  || "
   ]
  },
  {
   "cell_type": "markdown",
   "metadata": {},
   "source": [
    "## Looping through an array using foreach\n",
    "The foreach statement provides a simple, clean way to iterate through the elements of an array. The foreach statement processes array elements in increasing index order, starting with index 0 and ending with index Length - 1. It uses a temporary variable to hold the value of the array element associated with the current iteration. Each iteration will run the code block that's located below the foreach declaration.\n",
    "\n",
    "Here's a simple example:"
   ]
  },
  {
   "cell_type": "markdown",
   "metadata": {},
   "source": [
    "This me writing a thing. This is the best I am going to do...."
   ]
  },
  {
   "cell_type": "code",
   "execution_count": 9,
   "metadata": {
    "dotnet_interactive": {
     "language": "csharp"
    },
    "polyglot_notebook": {
     "kernelName": "csharp"
    },
    "vscode": {
     "languageId": "polyglot-notebook"
    }
   },
   "outputs": [
    {
     "ename": "Error",
     "evalue": "(7,44): error CS0021: Cannot apply indexing with [] to an expression of type 'char'",
     "output_type": "error",
     "traceback": [
      "(7,44): error CS0021: Cannot apply indexing with [] to an expression of type 'char'"
     ]
    }
   ],
   "source": [
    " string[] names = {\"andy\", \"Julie\"};\n",
    "\n",
    " Console.WriteLine(\"This is a thing\");\n",
    "\n",
    " string[] names2 = {\"John\", \"mary\", \"Joe\"};\n",
    "\n",
    " Console.WriteLine($\"Hello {names[0][1]}, {names2[0][1][2]}\");\n",
    "\n",
    "//I don't know how to list index as a list or string. I think it has something to do with convert to string for the whole thing. \n",
    "\n",
    "\n",
    "//todo can i use the tablet mode to code? not really"
   ]
  }
 ],
 "metadata": {
  "language_info": {
   "name": "csharp"
  }
 },
 "nbformat": 4,
 "nbformat_minor": 2
}
